{
 "cells": [
  {
   "cell_type": "markdown",
   "metadata": {
    "deletable": true,
    "editable": true
   },
   "source": [
    "# Helper for chopping songs into overlapping clips #"
   ]
  },
  {
   "cell_type": "code",
   "execution_count": 1,
   "metadata": {
    "collapsed": true,
    "deletable": true,
    "editable": true
   },
   "outputs": [],
   "source": [
    "%load_ext autoreload\n",
    "%autoreload 2"
   ]
  },
  {
   "cell_type": "code",
   "execution_count": 2,
   "metadata": {
    "collapsed": true,
    "deletable": true,
    "editable": true
   },
   "outputs": [],
   "source": [
    "import numpy as np\n",
    "import os \n",
    "import librosa\n",
    "from joblib import Parallel, delayed"
   ]
  },
  {
   "cell_type": "markdown",
   "metadata": {
    "deletable": true,
    "editable": true
   },
   "source": [
    "### Specifying audio folders ### "
   ]
  },
  {
   "cell_type": "code",
   "execution_count": 3,
   "metadata": {
    "collapsed": false,
    "deletable": true,
    "editable": true
   },
   "outputs": [
    {
     "name": "stdout",
     "output_type": "stream",
     "text": [
      "['../songs/salami/10.mp3', '../songs/salami/12.mp3', '../songs/salami/14.mp3', '../songs/salami/16.mp3', '../songs/salami/18.mp3', '../songs/salami/2.mp3', '../songs/salami/20.mp3', '../songs/salami/4.mp3', '../songs/salami/6.mp3', '../songs/salami/8.mp3']\n"
     ]
    }
   ],
   "source": [
    "# salami_folder = \"../songs/salami/\"\n",
    "# salami_songs = [salami_folder+s for s in os.listdir(salami_folder) if s.endswith('.mp3')]\n",
    "\n",
    "vibe_folder = \"../songs/vibe/\"\n",
    "vibe_songs = [vibe_folder+s for s in os.listdir(vibe_folder) if s.endswith('.mp3')]\n",
    "\n",
    "# songs = salami_songs+vibe_songs\n",
    "songs = salami_songs\n",
    "print songs"
   ]
  },
  {
   "cell_type": "markdown",
   "metadata": {
    "deletable": true,
    "editable": true
   },
   "source": [
    "### Specifying export folder, lengths of clips and hop length (in secons)"
   ]
  },
  {
   "cell_type": "code",
   "execution_count": 7,
   "metadata": {
    "collapsed": true,
    "deletable": true,
    "editable": true
   },
   "outputs": [],
   "source": [
    "export_folder = \"../clips/\"\n",
    "clip_lengths = range(10,35,5)\n",
    "hop_length = 5"
   ]
  },
  {
   "cell_type": "code",
   "execution_count": 8,
   "metadata": {
    "collapsed": true,
    "deletable": true,
    "editable": true
   },
   "outputs": [],
   "source": [
    "def chop(y, sr, t, s):\n",
    "    hop = hop_length*sr\n",
    "    window = t*sr\n",
    "    clip_start = 0\n",
    "    clip_end = window\n",
    "    ind = 0\n",
    "    while clip_end <= y.shape[0]:\n",
    "        librosa.output.write_wav(song_export_path+s+'_'+str(int(t))+'_'+str(ind)+'.wav', \n",
    "                                 y[clip_start:clip_end], sr)\n",
    "        clip_start+=hop\n",
    "        clip_end+=hop\n",
    "        ind+=1\n",
    "    else:\n",
    "        librosa.output.write_wav(song_export_path+s+'_'+str(int(t))+'_'+str(ind)+'.wav', \n",
    "                                 y[clip_start:], sr)    "
   ]
  },
  {
   "cell_type": "code",
   "execution_count": 9,
   "metadata": {
    "collapsed": false,
    "deletable": true,
    "editable": true
   },
   "outputs": [
    {
     "name": "stdout",
     "output_type": "stream",
     "text": [
      "../songs/salami/10.mp3 - loaded.\n",
      "../songs/salami/12.mp3 - loaded.\n",
      "../songs/salami/14.mp3 - loaded.\n",
      "../songs/salami/16.mp3 - loaded.\n",
      "../songs/salami/18.mp3 - loaded.\n",
      "../songs/salami/2.mp3 - loaded.\n",
      "../songs/salami/20.mp3 - loaded.\n",
      "../songs/salami/4.mp3 - loaded.\n",
      "../songs/salami/6.mp3 - loaded.\n",
      "../songs/salami/8.mp3 - loaded.\n"
     ]
    }
   ],
   "source": [
    "for s in songs:\n",
    "    y, sr = librosa.load(s)\n",
    "    print s, '- loaded.'\n",
    "\n",
    "    if not os.path.isdir(export_folder+s[:-4].split('/')[-1]+'/'):\n",
    "        os.mkdir(export_folder+s[:-4].split('/')[-1]+'/')\n",
    "    song_export_path = export_folder+s[:-4].split('/')[-1]+'/'\n",
    "    \n",
    "    Parallel(n_jobs=4)(delayed(chop)(y=y, sr=sr, t=t, s=s[:-4].split('/')[-1]) \n",
    "                       for t in clip_lengths)"
   ]
  },
  {
   "cell_type": "code",
   "execution_count": null,
   "metadata": {
    "collapsed": true,
    "deletable": true,
    "editable": true
   },
   "outputs": [],
   "source": []
  }
 ],
 "metadata": {
  "kernelspec": {
   "display_name": "Python 2",
   "language": "python",
   "name": "python2"
  },
  "language_info": {
   "codemirror_mode": {
    "name": "ipython",
    "version": 2
   },
   "file_extension": ".py",
   "mimetype": "text/x-python",
   "name": "python",
   "nbconvert_exporter": "python",
   "pygments_lexer": "ipython2",
   "version": "2.7.13"
  }
 },
 "nbformat": 4,
 "nbformat_minor": 0
}
