{
 "cells": [
  {
   "cell_type": "code",
   "execution_count": 1,
   "metadata": {
    "collapsed": false
   },
   "outputs": [],
   "source": [
    "%load_ext autoreload \n",
    "%autoreload 2"
   ]
  },
  {
   "cell_type": "code",
   "execution_count": 57,
   "metadata": {
    "collapsed": false
   },
   "outputs": [],
   "source": [
    "import json\n",
    "import datetime\n",
    "\n",
    "import numpy as np\n",
    "from boto.mturk.connection import MTurkConnection, MTurkRequestError\n",
    "from boto.mturk.qualification import Qualifications, NumberHitsApprovedRequirement, PercentAssignmentsApprovedRequirement\n",
    "from boto.mturk.price import Price\n",
    "from boto.mturk.question import ExternalQuestion\n",
    "\n",
    "import caqe.models as models\n",
    "from caqe import app\n",
    "\n",
    "from caqe.secret_keys import AWS_ACCESS_KEY_ID, AWS_SECRET_KEY\n",
    "from caqe.turk_admin import *\n",
    "\n",
    "import sqlalchemy\n",
    "import pickle"
   ]
  },
  {
   "cell_type": "code",
   "execution_count": 58,
   "metadata": {
    "collapsed": true
   },
   "outputs": [],
   "source": [
    "f = open('../seg_ref_dict.dict', 'r')\n",
    "ref_time_dict = pickle.load(f)\n",
    "f.close()"
   ]
  },
  {
   "cell_type": "code",
   "execution_count": 59,
   "metadata": {
    "collapsed": false
   },
   "outputs": [
    {
     "name": "stdout",
     "output_type": "stream",
     "text": [
      "{'S01_10': array([ 0.2719 ,  0.56275,  0.7776 ,  0.8534 ]), 'S02_10': array([ 0.24815,  0.5305 ,  0.75485,  0.8168 ]), 'S04_10': array([ 0.2719 ,  0.56275,  0.7776 ,  0.8534 ]), 'S06_10': array([ 0.3971]), 'S08_10': array([ 0.2719 ,  0.56275,  0.7776 ,  0.8534 ]), 'S07_10': array([ 0.24815,  0.5305 ,  0.75485,  0.8168 ]), 'S09_10': array([ 0.2719 ,  0.56275,  0.7776 ,  0.8534 ]), 'S10_10': array([ 0.2719 ,  0.56275,  0.7776 ,  0.8534 ]), 'S05_10': array([ 0.45685,  0.7474 ]), 'S03_10': array([ 0.2719 ,  0.56275,  0.7776 ,  0.8534 ])}\n"
     ]
    }
   ],
   "source": [
    "print ref_time_dict"
   ]
  },
  {
   "cell_type": "code",
   "execution_count": 3,
   "metadata": {
    "collapsed": false
   },
   "outputs": [],
   "source": [
    "app.config['MTURK_HOST'] = 'mechanicalturk.amazonaws.com'\n",
    "app.config['APP_MODE'] = 'PRODUCTION'"
   ]
  },
  {
   "cell_type": "code",
   "execution_count": 4,
   "metadata": {
    "collapsed": false
   },
   "outputs": [
    {
     "name": "stdout",
     "output_type": "stream",
     "text": [
      "mechanicalturk.amazonaws.com\n"
     ]
    }
   ],
   "source": [
    "turk = TurkAdmin(debug=True)"
   ]
  },
  {
   "cell_type": "code",
   "execution_count": 5,
   "metadata": {
    "collapsed": false
   },
   "outputs": [
    {
     "data": {
      "text/plain": [
       "u'399N3OLPKF6G13D3TPJU7BTWQM2HU5'"
      ]
     },
     "execution_count": 5,
     "metadata": {},
     "output_type": "execute_result"
    }
   ],
   "source": [
    "turk._get_hit_type_id()"
   ]
  },
  {
   "cell_type": "code",
   "execution_count": 8,
   "metadata": {
    "collapsed": true
   },
   "outputs": [],
   "source": [
    "asn = turk.get_all_assignments()"
   ]
  },
  {
   "cell_type": "code",
   "execution_count": 79,
   "metadata": {
    "collapsed": false
   },
   "outputs": [
    {
     "name": "stdout",
     "output_type": "stream",
     "text": [
      "60\n"
     ]
    }
   ],
   "source": [
    "accepted_participant = []\n",
    "accept = 0\n",
    "for a in asn:\n",
    "    if a.AssignmentStatus == 'Submitted':\n",
    "        p_list = models.Participant.query.filter_by(crowd_worker_id=a.WorkerId).all()\n",
    "        if p_list:\n",
    "            p = p_list[0]\n",
    "            trials = p.trials.all()\n",
    "            if trials:\n",
    "                ref_ratings = []\n",
    "                avg_ref_diff = []\n",
    "                for t in trials:\n",
    "                    t_data = json.loads(t.data)\n",
    "                    if t_data['ratings'].keys():\n",
    "                        if t_data['ratings'].keys()[0][-2:] == '10':\n",
    "                            p_ref = t_data['ratings'].items()[0][-1]\n",
    "                            g_ref = ref_time_dict[t_data['ratings'].keys()[0]]\n",
    "                            avg_ref_diff.append(np.min(np.abs(p_ref-g_ref)))\n",
    "                if np.mean(avg_ref_diff) < 0.15 and p not in accepted_participant:\n",
    "                    accepted_participant.append(p)\n",
    "print len(accepted_participant)"
   ]
  },
  {
   "cell_type": "code",
   "execution_count": 88,
   "metadata": {
    "collapsed": true
   },
   "outputs": [],
   "source": [
    "accepted_participant_id = [p.crowd_worker_id for p in accepted_participant]"
   ]
  },
  {
   "cell_type": "code",
   "execution_count": 107,
   "metadata": {
    "collapsed": true
   },
   "outputs": [],
   "source": [
    "accept_first_feedback = \"Thanks for completing our musical Task HIT. This bonus is to compensate you for the extra time needed to complete the first assignment of the HIT.\"\n",
    "reject_first_feedback = 'This is a payment for taking your time participating in this task.'\n",
    "reject_feedback = 'Thank you for participating in this task. Unfortunately the assignments are rejected due to the quality of the submitted results. You should still recieve a payment for finishing one HIT.'"
   ]
  },
  {
   "cell_type": "code",
   "execution_count": 117,
   "metadata": {
    "collapsed": false
   },
   "outputs": [
    {
     "name": "stdout",
     "output_type": "stream",
     "text": [
      "Bonus(reject):  3NC5L260MOMK7VRBZNI6AOSLET8FO2\n",
      "Reject:  3NC5L260MOMK7VRBZNI6AOSLET8FO2\n",
      "Bonus(reject):  3UWN2HHPUY5BTFWL4SIS2YBVD9XNSE\n",
      "Reject:  3UWN2HHPUY5BTFWL4SIS2YBVD9XNSE\n",
      "Bonus(reject):  3W2LOLRXLBFYKUB5SQQ7KWPVXC9KRI\n",
      "Reject:  3W2LOLRXLBFYKUB5SQQ7KWPVXC9KRI\n",
      "Bonus(reject):  31T4R4OBOSG6JDF2RZB3RWLNRR67CT\n",
      "Reject:  31T4R4OBOSG6JDF2RZB3RWLNRR67CT\n",
      "Bonus(reject):  3YGXWBAF70H90QXJP1DWOK1D0PGC4E\n",
      "Reject:  3YGXWBAF70H90QXJP1DWOK1D0PGC4E\n",
      "Bonus(reject):  388U7OUMF71W7441OXGP1CAMJE3R0J\n",
      "Reject:  388U7OUMF71W7441OXGP1CAMJE3R0J\n",
      "Approving:  3LRLIPTPEQ96LDPOQF4LP60LX8LAK0\n",
      "Bonus:  3LRLIPTPEQ96LDPOQF4LP60LX8LAK0\n",
      "Bonus(reject):  3L0KT67Y8EG55E0ZBUR3JE92HT1YSF\n",
      "Reject:  3L0KT67Y8EG55E0ZBUR3JE92HT1YSF\n",
      "Bonus(reject):  3X65QVEQI0N5YY44VTCDA13OMBBCL7\n",
      "Reject:  3X65QVEQI0N5YY44VTCDA13OMBBCL7\n",
      "Reject:  3KOPY89HM82BQ8KLZFPZ1JM2C9T3JY\n",
      "Approving:  37M28K1J0QDBATJ68U49OR08IJLAJ1\n",
      "Bonus(reject):  3W92K5RLWUHNVI7JUNRBJ4VGLSR5VB\n",
      "Reject:  3W92K5RLWUHNVI7JUNRBJ4VGLSR5VB\n",
      "Reject:  38F5OAUN5NCX0LQIDRP42NI34JBH7C\n",
      "Bonus(reject):  37C0GNLMHF3XK57B8L1M5O39HGYD60\n",
      "Reject:  37C0GNLMHF3XK57B8L1M5O39HGYD60\n",
      "Bonus(reject):  3GGAI1SQEVYP4GMPV5DSAEIDMG1MCJ\n",
      "Reject:  3GGAI1SQEVYP4GMPV5DSAEIDMG1MCJ\n",
      "Approving:  3TOK3KHVJTI7S2C5H4KUMWF4G5Q7OR\n",
      "Bonus:  3TOK3KHVJTI7S2C5H4KUMWF4G5Q7OR\n",
      "Reject:  3GNA64GUZE4VQAB28OX1DHW840C5QH\n",
      "Approving:  378XPAWRUCDFFIZ0QCJ9CQL854WIAX\n",
      "Bonus:  378XPAWRUCDFFIZ0QCJ9CQL854WIAX\n",
      "Bonus(reject):  351SEKWQS0HZ98S3V183UK0V7GDDMA\n",
      "Reject:  351SEKWQS0HZ98S3V183UK0V7GDDMA\n",
      "Reject:  3HL8HNGX451H08N5XYZODYXWJUM9FI\n",
      "Approving:  3XM0HYN6NKZAMH3GJCBFH6CBCXPPEB\n",
      "Approving:  3NJM2BJS4W6VPJJ2NL5KRIC8RLCCP5\n",
      "Bonus(reject):  3UNH76FOCS527JNURXVH75AWP4JMYR\n",
      "Reject:  3UNH76FOCS527JNURXVH75AWP4JMYR\n",
      "Approving:  3KIBXJ1WD5UVNHJP0Y93Q1KQMPPOKD\n",
      "Bonus:  3KIBXJ1WD5UVNHJP0Y93Q1KQMPPOKD\n",
      "Approving:  3PW9OPU9PQKFA98Y5Q5OE9LOCET12H\n",
      "Approving:  3GNCZX450IN7W4M4379TLNMKRIRAP1\n",
      "Bonus(reject):  3U4J9857OEBN98NWDZF8GCF59667BM\n",
      "Reject:  3U4J9857OEBN98NWDZF8GCF59667BM\n",
      "Approving:  3DZQRBDBSLF4PB3BM9YDTKDP8S63SE\n",
      "Bonus:  3DZQRBDBSLF4PB3BM9YDTKDP8S63SE\n",
      "Bonus(reject):  32M8BPYGATMGP9C3CCBJ8CWB3Z9IG9\n",
      "Reject:  32M8BPYGATMGP9C3CCBJ8CWB3Z9IG9\n",
      "Approving:  30H4UDGLT2I8Y5VT0AZYUEHKLZGPM0\n",
      "Bonus:  30H4UDGLT2I8Y5VT0AZYUEHKLZGPM0\n",
      "Bonus(reject):  3U5NZHP4LR2M6RUI9DJL299O4DHHPJ\n",
      "Reject:  3U5NZHP4LR2M6RUI9DJL299O4DHHPJ\n",
      "Reject:  3PWWM24LHSYXL9SJ4BE3TJ8WQK0283\n",
      "Bonus(reject):  39DD6S19JPB40L5M6L9H84EPMWWEZL\n",
      "Reject:  39DD6S19JPB40L5M6L9H84EPMWWEZL\n",
      "Reject:  3I33IC7ZWF2B4XLY19YHPAERG80A2F\n",
      "Bonus(reject):  3HMVI3QICJS5BU15YBCJNDMTRTP1YZ\n",
      "Reject:  3HMVI3QICJS5BU15YBCJNDMTRTP1YZ\n",
      "Bonus(reject):  3AQF3RZ558IUIPL7ZRWCTO6UTUH6F9\n",
      "Reject:  3AQF3RZ558IUIPL7ZRWCTO6UTUH6F9\n",
      "Approving:  38SKSKU7R1XWB1Q4N38ZL41JZHYILK\n",
      "Bonus(reject):  3G5W44VEU7I7V42RCFWVLSBOV41GKN\n",
      "Reject:  3G5W44VEU7I7V42RCFWVLSBOV41GKN\n",
      "Approving:  3P4RDNWND56QGB24KIWM5PORVSTIJI\n",
      "Bonus(reject):  3GU1KF0O4I1CFERW9L9PGY6Q91FBP2\n",
      "Reject:  3GU1KF0O4I1CFERW9L9PGY6Q91FBP2\n",
      "Approving:  308XBLVESI4XRR7BMDDELT65AJ3BRU\n",
      "Reject:  3E337GFOL9883ANU9SOBDKSSPZ6GNS\n",
      "Bonus(reject):  3PJ71Z61R42QATTXQZK3OWT2IL619E\n",
      "Reject:  3PJ71Z61R42QATTXQZK3OWT2IL619E\n",
      "Approving:  3OONKJ5DKCJUUEFVULWARY10ZWJBOL\n",
      "Bonus:  3OONKJ5DKCJUUEFVULWARY10ZWJBOL\n",
      "Bonus(reject):  34Q075JO1XD8EZ5KQ31AVLS9FHC102\n",
      "Reject:  34Q075JO1XD8EZ5KQ31AVLS9FHC102\n",
      "Approving:  3RXCAC0YIRPN030Q3QZSVN2X0478GW\n",
      "Approving:  31EUONYN2V393SD1Z2NASAV72OZVOB\n",
      "Bonus(reject):  3TAYZSBPLL8F4T7SI9K8AA8X2FA2S8\n",
      "Reject:  3TAYZSBPLL8F4T7SI9K8AA8X2FA2S8\n",
      "Bonus(reject):  3UN61F00HWPV2BQ2L3M1I76D0NI5RO\n",
      "Reject:  3UN61F00HWPV2BQ2L3M1I76D0NI5RO\n",
      "Bonus(reject):  3MHW492WW0DL3PSPMM8X06627OKVMW\n",
      "Reject:  3MHW492WW0DL3PSPMM8X06627OKVMW\n",
      "Bonus(reject):  3RWE2M8QWHABS6C9VQZ8SS5CIII0NA\n",
      "Reject:  3RWE2M8QWHABS6C9VQZ8SS5CIII0NA\n",
      "Reject:  3P59JYT76LKGJTK779PYKF4J4YO2TX\n",
      "Reject:  3QECW5O0KH18IQ3UPSRWIM7VO8ET5O\n",
      "Approving:  3SBEHTYCWN3GB0X36IXPFC3F8W2YIS\n",
      "Approving:  3SPJ0334213C6BH9O0IPRDIFLBRYJ4\n",
      "Bonus(reject):  3U088ZLJVKT1F0LNNRQVOBI3BUM0W1\n",
      "Reject:  3U088ZLJVKT1F0LNNRQVOBI3BUM0W1\n",
      "Reject:  31Z0PCVWUKFN5UHDDL6TG6LRFE9T73\n",
      "Approving:  3GFK2QRXX9H0A77OKXW756EUS2X5WR\n",
      "Approving:  3OUYGIZWR7YBVROMB5C0WHA7IXJ0P6\n",
      "Reject:  3Y5140Z9DXGM2M52FV162LA34R0IPJ\n",
      "Bonus(reject):  3QHK8ZVMIMIMOTCYHTGIZHX64RFLBF\n",
      "Reject:  3QHK8ZVMIMIMOTCYHTGIZHX64RFLBF\n",
      "Approving:  3EF8EXOTT1VFG566CBBGDQ75EQJ1JA\n",
      "Bonus:  3EF8EXOTT1VFG566CBBGDQ75EQJ1JA\n",
      "Approving:  3KYQYYSHYV7N9BDF8HNGMOP02HWDOV\n",
      "Bonus(reject):  3FPRZHYEPY7KH3KFG43I47XW7X83VT\n",
      "Reject:  3FPRZHYEPY7KH3KFG43I47XW7X83VT\n",
      "Approving:  308XBLVESI4XRR7BMDDELT65AJ8BRZ\n",
      "Bonus:  308XBLVESI4XRR7BMDDELT65AJ8BRZ\n",
      "Approving:  3VAR3R6G1P1BSGHOR9C00WBZRQ38OO\n",
      "Approving:  3ATPCQ38J8A15IE5UU5CYEFWVO2AY5\n",
      "Bonus:  3ATPCQ38J8A15IE5UU5CYEFWVO2AY5\n",
      "Approving:  37U1UTWH9VMEPT94J1T4URG42DO8RY\n",
      "Bonus:  37U1UTWH9VMEPT94J1T4URG42DO8RY\n",
      "Approving:  3RJSC4XJ10U72H63RQ3MYB5QRXO05Q\n",
      "Bonus(reject):  3GDTJDAPVUBNSDWCETXN8SMUWQP8MA\n",
      "Reject:  3GDTJDAPVUBNSDWCETXN8SMUWQP8MA\n",
      "Reject:  34Q075JO1XD8EZ5KQ31AVLS9FHJ018\n",
      "Approving:  33LKR6A5KEK9U82BO5PKFWUECSH1TM\n",
      "Approving:  317HQ483I7SMZ1TPZGOEYW584C6INU\n",
      "Bonus:  317HQ483I7SMZ1TPZGOEYW584C6INU\n",
      "Approving:  336KAV9KYQSC0FJ1HFCXSWWYJ0DY2P\n",
      "Bonus:  336KAV9KYQSC0FJ1HFCXSWWYJ0DY2P\n",
      "Approving:  32Q90QCQ1SL9BQ606K67LPQCIOVKEJ\n",
      "Approving:  3TU5ZICBRD1EDSU46M44P16Z6RQ8Q1\n",
      "Bonus:  3TU5ZICBRD1EDSU46M44P16Z6RQ8Q1\n",
      "Approving:  3OJSZ2ATDSWLKS6NCPOVDQFDZBX750\n",
      "Bonus:  3OJSZ2ATDSWLKS6NCPOVDQFDZBX750\n",
      "Approving:  3KMS4QQVK2Q1H46W1VQD37BCUPBFKX\n",
      "Bonus:  3KMS4QQVK2Q1H46W1VQD37BCUPBFKX\n",
      "Approving:  3E47SOBEYQW38XWYAQF0ILBW58UICE\n",
      "Bonus:  3E47SOBEYQW38XWYAQF0ILBW58UICE\n",
      "Bonus(reject):  3IAS3U3I0FGGN7QQ7NYDKLYXYRYB2Q\n",
      "Reject:  3IAS3U3I0FGGN7QQ7NYDKLYXYRYB2Q\n",
      "Bonus(reject):  358010RM5ETWX1RT0TA6BNM0ES8VXK\n",
      "Reject:  358010RM5ETWX1RT0TA6BNM0ES8VXK\n",
      "Approving:  3K2755HG5S3T3Y0M9E4QZUGMAG9DFD\n",
      "Reject:  3DY4FPOOA1OC055HRU4EM50CDBNVRO\n",
      "Approving:  3OJSZ2ATDSWLKS6NCPOVDQFDZBS75V\n",
      "Approving:  3LRLIPTPEQ96LDPOQF4LP60LX9UKAL\n",
      "Bonus:  3LRLIPTPEQ96LDPOQF4LP60LX9UKAL\n",
      "Approving:  3OVHNO1VE61Z8FRMAQYX2MW4ML4DZ2\n",
      "Bonus(reject):  3PB5A5BD0V6J0PV7TL7MHN62PK8G7O\n",
      "Reject:  3PB5A5BD0V6J0PV7TL7MHN62PK8G7O\n",
      "Approving:  30H4UDGLT2I8Y5VT0AZYUEHKL0RMPA\n",
      "Approving:  3LEP4MGT3G03QHO64CIUG4P1VIKDBY\n",
      "Approving:  337RC3OW0521X7A4MA7I0TRD7J2LVS\n",
      "Bonus:  337RC3OW0521X7A4MA7I0TRD7J2LVS\n",
      "Reject:  3PXX5PX6LXY5SALUK2RSQ3HVAFNBAU\n",
      "Approving:  3Y5140Z9DXGM2M52FV162LA34R7IPQ\n",
      "Approving:  3C44YUNSI1P5UBPGNH0VBOUQCM0DPK\n",
      "Approving:  3IJXV6UZ1XJ7EZLHSN5V7GAI59WRIS\n",
      "Approving:  3OLF68YTN91V5RXAP4DO9T8GPDGFAH\n",
      "Bonus:  3OLF68YTN91V5RXAP4DO9T8GPDGFAH\n",
      "Approving:  3X4MXAO0BGOPFU5MH49A87JQKKURWZ\n",
      "Bonus:  3X4MXAO0BGOPFU5MH49A87JQKKURWZ\n",
      "Approving:  3PM8NZGV8YG4STVCEUGW50NSX0YXQX\n",
      "Bonus:  3PM8NZGV8YG4STVCEUGW50NSX0YXQX\n",
      "Approving:  3LPW2N6LKT2NI3IJPXH6NITX7MV5U1\n",
      "Bonus:  3LPW2N6LKT2NI3IJPXH6NITX7MV5U1\n",
      "Approving:  3ON104KXQKWIEO3O6SDX0E8GS6AW4L\n",
      "Bonus:  3ON104KXQKWIEO3O6SDX0E8GS6AW4L\n",
      "Approving:  3GU1KF0O4I1CFERW9L9PGY6Q91PPBQ\n",
      "Approving:  3O6CYIULED1HVMX3LY4FDI6ARJZUW7\n",
      "Bonus:  3O6CYIULED1HVMX3LY4FDI6ARJZUW7\n",
      "Approving:  369J354OFDA0WPH2AB2UB966U9R6GI\n",
      "Approving:  3RXCAC0YIRPN030Q3QZSVN2X04HG8E\n",
      "Bonus:  3RXCAC0YIRPN030Q3QZSVN2X04HG8E\n",
      "Approving:  3ZAK8W07I4EONWWISRBU6NX6QEL0UC\n",
      "Bonus:  3ZAK8W07I4EONWWISRBU6NX6QEL0UC\n",
      "Approving:  3X65QVEQI0N5YY44VTCDA13OMCPCLN\n",
      "Bonus:  3X65QVEQI0N5YY44VTCDA13OMCPCLN\n",
      "Approving:  35DR22AR5DKCLSPAGJ40SSUHN8G3XW\n",
      "Approving:  39OWYR0EPKRW19VD5AR4CFQNS4FFYN\n",
      "Approving:  3NVC2EB65QZ1LXFKLFQ2B61QPEA3Y2\n",
      "Bonus:  3NVC2EB65QZ1LXFKLFQ2B61QPEA3Y2\n",
      "Reject:  3DIP6YHAPCSPGP4ZXV94VKHLNOY8EL\n",
      "Approving:  3T3IWE1XG6NXBCMS9KFZGX2MK46TQ6\n",
      "Bonus:  3T3IWE1XG6NXBCMS9KFZGX2MK46TQ6\n",
      "Approving:  3MAOD8E57QAJPWIKY2OF16SNSP6NXV\n",
      "Bonus:  3MAOD8E57QAJPWIKY2OF16SNSP6NXV\n",
      "Approving:  3FTYUGLFSUL1117X32RHDIP9LMX5DO\n",
      "Bonus:  3FTYUGLFSUL1117X32RHDIP9LMX5DO\n",
      "Bonus(reject):  36WLNQG78ZA8IN2607TEMM7MVUKBEO\n",
      "Reject:  36WLNQG78ZA8IN2607TEMM7MVUKBEO\n",
      "Reject:  3HVVDCPGTES6KEDE0UWTTJ5OJDPTYB\n",
      "Approving:  3WLEIWSYHOHQEKTC7F896W1VT402HU\n",
      "Approving:  37U1UTWH9VMEPT94J1T4URG42DQ8R0\n",
      "Approving:  3YMTUJH0DSGQM7ZUBN8MDU1HOCRT4R\n",
      "Approving:  3SNVL38CI4SUESMMAT0CV1Q9XCICKI\n",
      "Bonus:  3SNVL38CI4SUESMMAT0CV1Q9XCICKI\n",
      "Approving:  31LVTDXBL7A940TNDQ28ZW2AMDRRL7\n",
      "Bonus(reject):  3R0T90IZ1SCPC6Q3K2FXX9YGQV2CGG\n",
      "Reject:  3R0T90IZ1SCPC6Q3K2FXX9YGQV2CGG\n",
      "Approving:  33PPUNGG385T9PARSRTH7BD81MYZRX\n",
      "Approving:  3SKRO2GZ71RARPCOUWBSE57ITFSK11\n",
      "Reject:  3QUO65DNQUO9QDO1UCD5WOTOOH0UOV\n",
      "Approving:  3LJ7UR74RHDSRUUAERMA4VVPZU7N4M\n",
      "Bonus:  3LJ7UR74RHDSRUUAERMA4VVPZU7N4M\n",
      "Approving:  3BWI6RSP7G9LGBZGNQHYHKLQC4X7E2\n",
      "Reject:  3K4J6M3CXET1JRT50OJ6RE8SQSCAG7\n",
      "Bonus(reject):  3TE22NPXPBC65MK4WM7E5MPP8D7443\n",
      "Reject:  3TE22NPXPBC65MK4WM7E5MPP8D7443\n",
      "Approving:  32VNZTT0A74D6SM27Y3RDF0Z0RR4RM\n",
      "Approving:  32EYX73OY09CNQGHM4U9QJYTZ4GUR0\n",
      "Approving:  3TY7ZAOG5FKAK0R6YD7S00O8ONIK0U\n",
      "Bonus:  3TY7ZAOG5FKAK0R6YD7S00O8ONIK0U\n",
      "Approving:  30IQTZXKAK6G40QDXWMHQUWAKWX0XZ\n",
      "Bonus:  30IQTZXKAK6G40QDXWMHQUWAKWX0XZ\n",
      "Approving:  3IXQG4FA2TYRNRBPSWDSU86B4X49BC\n",
      "Approving:  3L0KT67Y8EG55E0ZBUR3JE92HUASYK\n",
      "Approving:  38SKSKU7R1XWB1Q4N38ZL41JZH5LIU\n",
      "Approving:  3GGAI1SQEVYP4GMPV5DSAEIDMHCMCW\n",
      "Approving:  3M68NM076H7RLFQGQMW6ADKDWI16RD\n",
      "Approving:  3WR9XG3T63B3O92NYK5L8Y9ZZF174U\n",
      "Approving:  3I3WADAZ9Q4S5YYMTB5XOC18P05O55\n",
      "Bonus:  3I3WADAZ9Q4S5YYMTB5XOC18P05O55\n",
      "Approving:  3DY4FPOOA1OC055HRU4EM50CDBSRVP\n",
      "Reject:  3NS0A6KXC482KZ1DCGZ587Z1ZDNGZI\n",
      "Approving:  3R08VXYT7CVFXBL78QB43QSQJ80W75\n",
      "Approving:  3EKVH9QMEY4924OALJPJFBMX1C92DN\n",
      "Approving:  3TVSS0C0E102V9IELTE58MK885RWTH\n",
      "Approving:  3GA6AFUKOOOFZ2PVBFMEP66NZI2H3M\n",
      "Approving:  36U2A8VAG1Z7HVNR6LI1SSIS001YKD\n",
      "Bonus:  36U2A8VAG1Z7HVNR6LI1SSIS001YKD\n",
      "Approving:  3NVC2EB65QZ1LXFKLFQ2B61QPEFY32\n",
      "Approving:  33M4IA01QG144UACR95WAQXXTMWRXO\n",
      "Approving:  3WMOAN2SRBXRL7DPYNNXDLV2CEYNVS\n",
      "Bonus:  3WMOAN2SRBXRL7DPYNNXDLV2CEYNVS\n",
      "Approving:  3I0BTBYZAXL545GN2S8J983JM2QY02\n",
      "Approving:  35USIKEBNRG66HYOXFFP1TF3VL8N62\n",
      "Bonus:  35USIKEBNRG66HYOXFFP1TF3VL8N62\n",
      "Approving:  39LOEL67OS5M6RO28BS8CTDOWZ883U\n",
      "Approving:  34S9DKFK73P8P18U3YAHKKZWUV2YNE\n",
      "Approving:  3WR9XG3T63B3O92NYK5L8Y9ZZFZ74S\n",
      "Bonus:  3WR9XG3T63B3O92NYK5L8Y9ZZFZ74S\n",
      "Reject:  3VNL7UK1XFJ0KNWJV4454YY8D2ZTFE\n",
      "Approving:  3YMTUJH0DSGQM7ZUBN8MDU1HOCR4T2\n",
      "Bonus:  3YMTUJH0DSGQM7ZUBN8MDU1HOCR4T2\n",
      "Approving:  3LQ8PUHQFLSUP57EWIT1TC8CI0XIHL\n",
      "Approving:  3A1COHJ8NJV10ZV1NWHAGNEYF4T8H4\n",
      "Approving:  3WRFBPLXRAO79YB6EDHRUQ3JLUAN30\n",
      "Approving:  3OCHAWUVGOKIHQXH1PWZ9EBJYU6XK5\n",
      "Approving:  37QW5D2ZRGMQQ89HYQT9K1L0OFB8SQ\n",
      "Approving:  30IQTZXKAK6G40QDXWMHQUWAKW0X0Z\n",
      "Approving:  3QXNC7EIPIVQ348FUGG3ARASDTA90T\n",
      "Approving:  3KJYX6QCM9BV2HM4JPV5KEEL3UZJVQ\n",
      "Approving:  3XXU1SWE8MV48NIKMMU36MLCJBSA09\n",
      "Bonus:  3XXU1SWE8MV48NIKMMU36MLCJBSA09\n",
      "Approving:  3LKC68YZ3A3MIHD6PCS6ECEL9XBOWO\n",
      "Approving:  3KAKFY4PGU2FVX0FHX4ZPI72ZVHI3G\n",
      "Approving:  3FIJLY1B6U42SV3CENVLZOXBOZHPF8\n",
      "Approving:  39O5D9O87TSOIUEFPN8DEF97MQYC39\n",
      "Approving:  3IFS6Q0HJIJJFELU7C50XQFERBBIS3\n",
      "Approving:  3NQL1CS15R8LX6H35PW8U1T9GY2VYQ\n",
      "Bonus:  3NQL1CS15R8LX6H35PW8U1T9GY2VYQ\n",
      "Reject:  3QRYMNZ7FYHC8F90TSNIC37HFTINTC\n",
      "Approving:  3RJSC4XJ10U72H63RQ3MYB5QRXN05P\n",
      "Approving:  31JLPPHS2UUPRJBIFSH49F3OB4C3OS\n",
      "Reject:  3PXX5PX6LXY5SALUK2RSQ3HVAFLBAS\n",
      "Reject:  33LK57MYLT55A4A47GTMXLI4NOEZSI\n",
      "Approving:  3URFVVM165ILPH28WLOMCM0S8LZUZT\n",
      "Approving:  3UNH76FOCS527JNURXVH75AWP5SYME\n",
      "Bonus:  3UNH76FOCS527JNURXVH75AWP5SYME\n",
      "Approving:  33NF62TLXJ2HM6SSKLHYI534NWPKJ2\n",
      "Approving:  3A1PQ49WVHHJPZBGOB8V1DRQ1YMH1S\n",
      "Approving:  3WSELTNVR325OWFBKOIDQXNHGMOATK\n",
      "Approving:  3YHH42UU5BFL469OJDJTF01NDNPL00\n",
      "Bonus:  3YHH42UU5BFL469OJDJTF01NDNPL00\n",
      "Approving:  3UWN2HHPUY5BTFWL4SIS2YBVDA9NSS\n",
      "Approving:  3NVC2EB65QZ1LXFKLFQ2B61QPEF3Y7\n",
      "Approving:  358010RM5ETWX1RT0TA6BNM0ESDVXP\n",
      "Bonus:  358010RM5ETWX1RT0TA6BNM0ESDVXP\n",
      "Reject:  3J2UYBXQQLC3LL6HW9DRQHJQNS260F\n",
      "Approving:  3QIYRE09Y3HBZVXRR9386XOMNAX1NN\n",
      "Approving:  3OVR4I9USPJDUR72UJER8PQU45U4QQ\n",
      "Approving:  3JPSL1DZ5SZ7TJARNSW1HYHPR42NAW\n",
      "Reject:  3XIQGXAUMC8UMBQXIV7Q596XSA77XA\n",
      "Approving:  32VNZTT0A74D6SM27Y3RDF0Z0RVR4D\n",
      "Approving:  3PJUZCGDJ6G8LTDIPKTI36GAWRN89G\n",
      "Approving:  3STRJBFXOWRB09OXWFV2KBQDLYJTKJ\n",
      "Approving:  39KFRKBFINVQ7M864DAUZ9Z1K55YOR\n",
      "Bonus:  39KFRKBFINVQ7M864DAUZ9Z1K55YOR\n",
      "Approving:  3EFE17QCRC5JJJAA1UNFXEEZRYWHS9\n",
      "Approving:  3DPNQGW4LLFKK9OIFA0T2K9344D46O\n",
      "Approving:  3K5TEWLKGVBZ762Y17A58DZLQF5IV8\n",
      "Approving:  336YQZE83VE45VDAGVQKW8C3U0N5M4\n",
      "Reject:  336KAV9KYQSC0FJ1HFCXSWWYJ0AY2M\n",
      "Approving:  3DOCMVPBTNEED24GWW16341PQBXNNC\n",
      "Approving:  3OSWBBLG1EXA3KR798AC51GTEL6XDP\n",
      "Bonus:  3OSWBBLG1EXA3KR798AC51GTEL6XDP\n",
      "Approving:  3IUZPWIU1O73SQSRRK0D7VXCPSYKWX\n",
      "Approving:  36DSNE9QZ5Y0CXD7ID9RPMKD71ZOJQ\n",
      "Approving:  3EA3QWIZ4IVKUEY9WCAQ7VB0TURITU\n",
      "Approving:  3OUYGIZWR7YBVROMB5C0WHA7IXQ0PD\n",
      "Approving:  3OCHAWUVGOKIHQXH1PWZ9EBJYU5KXR\n",
      "Approving:  3JBT3HLQF828XCUCFZPS2GDT049ZP4\n",
      "Approving:  3X66WABAJWI1Z6UKR94W46UMKIOG3L\n",
      "Bonus:  3X66WABAJWI1Z6UKR94W46UMKIOG3L\n",
      "Approving:  31N2WW6R9RQVL6YPGPYEMLUAJ3P3FA\n",
      "Bonus:  31N2WW6R9RQVL6YPGPYEMLUAJ3P3FA\n",
      "Approving:  336YQZE83VE45VDAGVQKW8C3U0R5M8\n",
      "Bonus:  336YQZE83VE45VDAGVQKW8C3U0R5M8\n",
      "Approving:  3DZQRBDBSLF4PB3BM9YDTKDP8TJS3I\n",
      "Approving:  3R3YRB5GRF3KO9U0KT8NVT9JZ0WAUC\n",
      "Approving:  3AMYWKA6YBMOO2Y0YUF2GIF8LVI6O5\n",
      "Approving:  3DPNQGW4LLFKK9OIFA0T2K9344J64W\n",
      "Bonus:  3DPNQGW4LLFKK9OIFA0T2K9344J64W\n",
      "Approving:  3TXWC2NHNZQQ4DSR3IZNKXGB8LTS9Z\n",
      "Approving:  3RXCAC0YIRPN030Q3QZSVN2X04C8G1\n",
      "Reject:  35GCEFQ6I5O1QNPPH1SLPDASV8E3ZT\n",
      "Approving:  3UOUJI6MTDEWKM2TV301F1KH0L1UXW\n",
      "Approving:  3XUHV3NRVKYIDHCZPYA74347DEQH59\n",
      "Approving:  3JMSRU9HQIUNR10C5OKENY1TYM1EVY\n",
      "Approving:  33TIN5LC04AN0Z402ORC2J4CP6N9YS\n",
      "Approving:  3S4AW7T80BI23URP2E6VR3R0UZ5L4G\n",
      "Approving:  358UUM7WRZ3APF4L9W1YGRK9RTKR7W\n",
      "Approving:  3PDJHANYK5GEWLCDUHKCW9I7993H6R\n",
      "Approving:  3QHK8ZVMIMIMOTCYHTGIZHX64RNBLD\n",
      "Approving:  3DUZQ9U6SMOO1K5U6J4JCF58ZDBSVE\n",
      "Reject:  3TU5ZICBRD1EDSU46M44P16Z6RPQ8I\n",
      "Approving:  352YTHGROVD0HY8ZBTRXZBYTDIY4HU\n",
      "Approving:  3VSOLARPKB9MKW7CD3YMCP8ZG5U93O\n",
      "Approving:  3LWJHTCVCCMNS74RE0AAZTNLTV3FQP\n",
      "Reject:  33M4IA01QG144UACR95WAQXXTM1XRZ\n",
      "Approving:  3JAOYWH7VI4300X1J92M8B2GGRLL9E\n",
      "Approving:  39LOEL67OS5M6RO28BS8CTDOWZD38U\n",
      "Approving:  3WAKVUDHUWG257W2DQW3L27TYSQU75\n",
      "Approving:  3IRIK4HM3AKNFD1X8P6BLILRWH0C6F\n",
      "Approving:  3HMVI3QICJS5BU15YBCJNDMTRUW1Y8\n",
      "Bonus:  3HMVI3QICJS5BU15YBCJNDMTRUW1Y8\n",
      "Approving:  3EO896NRAWVGPPIFEUVQJWQ069DTJE\n",
      "Reject:  378XPAWRUCDFFIZ0QCJ9CQL8554AIZ\n",
      "Reject:  3QBD8R3Z21JA9FUMF6MNJKVUP47O4X\n",
      "Approving:  3HMVI3QICJS5BU15YBCJNDMTRUX1Y9\n",
      "Bonus:  3HMVI3QICJS5BU15YBCJNDMTRUX1Y9\n",
      "Reject:  3L6L49WXW0XO15O4ARQOAEV389454B\n",
      "Approving:  3RUIQRXJBBOY12YA865CDKTBGLYLL7\n",
      "Approving:  3OVR4I9USPJDUR72UJER8PQU45R4QN\n",
      "Reject:  36AHBNMV1RCZ3PHHE4WEOFN2GR1YDX\n",
      "Approving:  3X87C8JFV6BWWC9DKKA96S60ILVQSH\n",
      "Approving:  3K2755HG5S3T3Y0M9E4QZUGMAGDFDJ\n",
      "Approving:  3HPZF4IVNMTPYXB3E813495KVRQYCY\n",
      "Approving:  3MHW492WW0DL3PSPMM8X06627OTVM5\n",
      "Approving:  3YT88D1N08Y61SQ3H0PB2YMFRZ63KC\n",
      "Approving:  3ZQIG0FLQEGH81M3QOEK948T5Q7VWW\n",
      "Reject:  3BWI6RSP7G9LGBZGNQHYHKLQC4WE78\n",
      "Approving:  3VBEN272MKZ5JNFZHO5XCE2YCYOGSE\n",
      "Bonus(reject):  3OE22WJIGIOCBP1H9P59LTOO3IHQUY\n",
      "Reject:  3OE22WJIGIOCBP1H9P59LTOO3IHQUY\n",
      "Approving:  3KOPY89HM82BQ8KLZFPZ1JM2CA6J3T\n",
      "Approving:  3QRYMNZ7FYHC8F90TSNIC37HFTOTNO\n",
      "Bonus:  3QRYMNZ7FYHC8F90TSNIC37HFTOTNO\n",
      "Reject:  37ZHEEHM6WMI6DJJY602YTHTLF773B\n",
      "Approving:  388U7OUMF71W7441OXGP1CAMJFH0R8\n",
      "Approving:  39DD6S19JPB40L5M6L9H84EPMXAEZ1\n",
      "Bonus:  39DD6S19JPB40L5M6L9H84EPMXAEZ1\n",
      "Approving:  39K0FND3AHF1B1PRBRH14JSPMEOAMF\n",
      "Approving:  3R6P78PK7KB6YNSE6OANMJYKEHWTGA\n",
      "Reject:  36U2A8VAG1Z7HVNR6LI1SSIS00XKYV\n",
      "Approving:  3OS46CRSLFZJEM7XZ61GBA9GHOCV6T\n",
      "Approving:  3VELCLL3GKJZB3KATLKVYSFDLJ9F1S\n",
      "Approving:  339ANSOTR52LRV8M23WY64O4AH0KIQ\n",
      "Bonus:  339ANSOTR52LRV8M23WY64O4AH0KIQ\n",
      "Approving:  3WYP994K17R0IG224HO0I9DAZ5G6YF\n",
      "Approving:  3GM6G9ZBKNX6QXO0HR8IZOIHA3CTMM\n",
      "Bonus:  3GM6G9ZBKNX6QXO0HR8IZOIHA3CTMM\n",
      "Approving:  3WETL7AQWT83J950ADL5093XU9A35Q\n",
      "Approving:  3ERMJ6L4DYSJSZRT4O5HUSQZL6M7MP\n",
      "Approving:  3R3YRB5GRF3KO9U0KT8NVT9JZ0VUAV\n",
      "Reject:  33JKGHPFYCU8VKJGKVM6QPCPLLRMNF\n",
      "Approving:  3TVSS0C0E102V9IELTE58MK885QWTG\n",
      "Bonus:  3TVSS0C0E102V9IELTE58MK885QWTG\n",
      "Approving:  3DZQRBDBSLF4PB3BM9YDTKDP8TIS3H\n",
      "Reject:  3HVVDCPGTES6KEDE0UWTTJ5OJDRYTI\n",
      "Approving:  3WJ1OXY92AGMQCNNHQ7IZ1RU2948AU\n",
      "Approving:  3A4TN5196KI3C2LE48XFI9AH5VFCHF\n",
      "Approving:  3UN61F00HWPV2BQ2L3M1I76D0NS5RY\n",
      "Approving:  3K4J6M3CXET1JRT50OJ6RE8SQSHGAI\n",
      "Approving:  3GLB5JMZFXVZHYWHKYA8HFGYBVEDGH\n"
     ]
    }
   ],
   "source": [
    "bonus_paid_participants_accept = []\n",
    "bonus_paid_participants_reject = []\n",
    "accepted_asn_count = 0\n",
    "for a in asn:\n",
    "    if a.AssignmentStatus == 'Submitted':\n",
    "        if a.WorkerId in accepted_participant_id:\n",
    "            try:\n",
    "                print 'Approving: ', a.AssignmentId\n",
    "                turk.connection.approve_assignment(a.AssignmentId, 'Thank you!')\n",
    "            except MTurkRequestError as e:\n",
    "                print e\n",
    "                continue\n",
    "            if a.WorkerId not in bonus_paid_participants_accept:\n",
    "                try:\n",
    "                    print 'Bonus: ', a.AssignmentId\n",
    "                    turk.connection.grant_bonus(a.WorkerId, a.AssignmentId, \n",
    "                                                Price(app.config['MTURK_FIRST_HIT_BONUS']), \n",
    "                                                accept_first_feedback)\n",
    "                    bonus_paid_participants_accept.append(a.WorkerId)\n",
    "                except MTurkRequestError as e:\n",
    "                    print e\n",
    "                    continue\n",
    "        else:\n",
    "            if a.WorkerId not in bonus_paid_participants_reject:\n",
    "                try:    \n",
    "                    print 'Bonus(reject): ', a.AssignmentId\n",
    "                    turk.connection.grant_bonus(a.WorkerId, a.AssignmentId, \n",
    "                                                Price(app.config['MTURK_REWARD']), \n",
    "                                                reject_first_feedback)\n",
    "                    bonus_paid_participants_reject.append(a.WorkerId)\n",
    "                except MTurkRequestError as e:\n",
    "                    print e\n",
    "                    continue\n",
    "            try:\n",
    "                print 'Reject: ', a.AssignmentId\n",
    "                turk.connection.reject_assignment(a.AssignmentId, reject_feedback)\n",
    "            except MTurkRequestError as e:\n",
    "                print e\n",
    "                continue\n",
    "    else:\n",
    "        print 'Not submitted: ', models.Participant.query.filter_by(crowd_worker_id=a.WorkerId).first()\n"
   ]
  },
  {
   "cell_type": "code",
   "execution_count": 118,
   "metadata": {
    "collapsed": false
   },
   "outputs": [
    {
     "name": "stdout",
     "output_type": "stream",
     "text": [
      "[u'A1FHS282JP487T', u'AVD6HMIO1HLFI', u'A2OO4PG3LBLP5I', u'A2B8L88BUHVOO6', u'A2R0YYUAWNT7UD', u'A3FJE9AUW0O41D', u'APR6H3HAOE9OU', u'A20BMZQJS92QY2', u'A2RCJ30AFLCI54', u'A9KPCMO1J1LQF', u'A2C84QVRK3KG57', u'AD3ZSVTCXP0Y5', u'A74PT3GRDMEZ', u'AFDC9A6Z60W2Z', u'A31Z5TPD8QKE26', u'A3RRW6OSYCLKWB', u'A1V2H0UF94ATWY', u'A16QKM4Y78OH3F', u'A3CDJ8PZX578GQ', u'A2JJHLWZKVOPQQ', u'A2M8KBU123YOM0', u'A258PTOZ3D2TQR', u'A3GUW5TPR84XVL', u'A14PFRHG0A2YY9', u'A1U0GNE5ELW5V7', u'A2ADEPVGNNXNPA', u'A48J6QE7ODQKY', u'ABBJOZRIPLPW1', u'A2RMJNF6IPI42F', u'AVIH7MSMSTZCW', u'A1PIGZNLSQMGNW', u'A49HPQ9P5AHU4', u'A8LWJ1BQBPPIJ', u'A3GK779V2BRAPS', u'A5CIY4V1VV1DR', u'A77K8W55MJEKX', u'A2B6WQG0A9CKXQ', u'AHZPOM46IUJ2N', u'A1QCQE5XW37LN1', u'A23KWI5P9WYEBZ', u'A5J0OW727ZCWY', u'A3IV8AFLU0E94K', u'AGHLR9UNHB6ZR', u'A2GB0RI43KU4Z', u'A2K56J9POYUFCA', u'A6WXIKRYMXNIN', u'A15A984KE7R40O', u'A1PTH9KTRO06EG', u'A3LT7W355XOAKF', u'A3MD34XEB4H6JF', u'AK81F0NOBFJS3', u'ADLYO655RWJUI', u'A19LVWX8ZLO6CS', u'A13PXTFOXDCKBF', u'A2K94MIAGMDM2W', u'A2764G633EEBM6', u'AYBYMDBEBK5Z', u'AYIFHDQSXQJ6B', u'A1USNVXB24PIAY', u'A1CE2XPYCDRHVZ']\n"
     ]
    }
   ],
   "source": [
    "print bonus_paid_participants_accept\n",
    "# print len(bonus_paid_participants_reject)"
   ]
  },
  {
   "cell_type": "code",
   "execution_count": 78,
   "metadata": {
    "collapsed": false
   },
   "outputs": [
    {
     "name": "stdout",
     "output_type": "stream",
     "text": [
      "277\n"
     ]
    }
   ],
   "source": [
    "print len(asn)"
   ]
  },
  {
   "cell_type": "code",
   "execution_count": 20,
   "metadata": {
    "collapsed": true
   },
   "outputs": [],
   "source": [
    "conditions = models.Condition.query.all()"
   ]
  },
  {
   "cell_type": "code",
   "execution_count": 40,
   "metadata": {
    "collapsed": false
   },
   "outputs": [],
   "source": [
    "p = models.Participant.query.filter_by(crowd_worker_id=a.WorkerId).all()"
   ]
  },
  {
   "cell_type": "code",
   "execution_count": 85,
   "metadata": {
    "collapsed": false
   },
   "outputs": [
    {
     "data": {
      "text/plain": [
       "(<Participant id=17, platform=u'mturk', crowd_worker_id=u'A2OO4PG3LBLP5I'>,\n",
       " u'{\"hit_id\": null, \"assignment_id\": \"ASSIGNMENT_ID_NOT_AVAILABLE\", \"turk_submit_to\": \"TURK_SUBMIT_TO_NOT_AVAILABLE\"}')"
      ]
     },
     "execution_count": 85,
     "metadata": {},
     "output_type": "execute_result"
    }
   ],
   "source": [
    "t.participant"
   ]
  },
  {
   "cell_type": "code",
   "execution_count": 16,
   "metadata": {
    "collapsed": false
   },
   "outputs": [
    {
     "data": {
      "text/plain": [
       "17"
      ]
     },
     "execution_count": 16,
     "metadata": {},
     "output_type": "execute_result"
    }
   ],
   "source": [
    "p.id"
   ]
  },
  {
   "cell_type": "code",
   "execution_count": 18,
   "metadata": {
    "collapsed": false
   },
   "outputs": [
    {
     "data": {
      "text/plain": [
       "u'3GLB5JMZFXVZHYWHKYA8HFGYBVEDGH'"
      ]
     },
     "execution_count": 18,
     "metadata": {},
     "output_type": "execute_result"
    }
   ],
   "source": [
    "a.AssignmentId"
   ]
  },
  {
   "cell_type": "code",
   "execution_count": 37,
   "metadata": {
    "collapsed": false
   },
   "outputs": [],
   "source": [
    "t_data = json.loads(t.data)"
   ]
  },
  {
   "cell_type": "code",
   "execution_count": 87,
   "metadata": {
    "collapsed": false
   },
   "outputs": [
    {
     "data": {
      "text/plain": [
       "u'A1FHS282JP487T'"
      ]
     },
     "execution_count": 87,
     "metadata": {},
     "output_type": "execute_result"
    }
   ],
   "source": [
    "accepted_participant[0].crowd_worker_id"
   ]
  },
  {
   "cell_type": "code",
   "execution_count": 93,
   "metadata": {
    "collapsed": false
   },
   "outputs": [
    {
     "data": {
      "text/plain": [
       "u'3ZKEGEY9TKU54X7D3YC3U4GU8U2XX6'"
      ]
     },
     "execution_count": 93,
     "metadata": {},
     "output_type": "execute_result"
    }
   ],
   "source": [
    "hit.HITTypeId"
   ]
  },
  {
   "cell_type": "code",
   "execution_count": 94,
   "metadata": {
    "collapsed": false
   },
   "outputs": [
    {
     "data": {
      "text/plain": [
       "[u'399N3OLPKF6G13D3TPJU7BTWQM2HU5']"
      ]
     },
     "execution_count": 94,
     "metadata": {},
     "output_type": "execute_result"
    }
   ],
   "source": [
    "turk.all_hit_types"
   ]
  },
  {
   "cell_type": "code",
   "execution_count": 101,
   "metadata": {
    "collapsed": false
   },
   "outputs": [
    {
     "data": {
      "text/plain": [
       "54.0"
      ]
     },
     "execution_count": 101,
     "metadata": {},
     "output_type": "execute_result"
    }
   ],
   "source": [
    "amount"
   ]
  },
  {
   "cell_type": "code",
   "execution_count": 103,
   "metadata": {
    "collapsed": true
   },
   "outputs": [],
   "source": []
  },
  {
   "cell_type": "code",
   "execution_count": 115,
   "metadata": {
    "collapsed": false
   },
   "outputs": [
    {
     "name": "stdout",
     "output_type": "stream",
     "text": [
      "1.5\n"
     ]
    }
   ],
   "source": [
    "print Price(app.config['MTURK_REWARD'])"
   ]
  },
  {
   "cell_type": "code",
   "execution_count": 114,
   "metadata": {
    "collapsed": false
   },
   "outputs": [
    {
     "data": {
      "text/plain": [
       "57.0"
      ]
     },
     "execution_count": 114,
     "metadata": {},
     "output_type": "execute_result"
    }
   ],
   "source": [
    "38*1.5"
   ]
  },
  {
   "cell_type": "code",
   "execution_count": null,
   "metadata": {
    "collapsed": true
   },
   "outputs": [],
   "source": []
  }
 ],
 "metadata": {
  "kernelspec": {
   "display_name": "Python 2",
   "language": "python",
   "name": "python2"
  },
  "language_info": {
   "codemirror_mode": {
    "name": "ipython",
    "version": 2
   },
   "file_extension": ".py",
   "mimetype": "text/x-python",
   "name": "python",
   "nbconvert_exporter": "python",
   "pygments_lexer": "ipython2",
   "version": "2.7.13"
  }
 },
 "nbformat": 4,
 "nbformat_minor": 0
}
