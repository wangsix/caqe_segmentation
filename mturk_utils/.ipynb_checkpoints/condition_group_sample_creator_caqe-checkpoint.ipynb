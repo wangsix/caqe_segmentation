{
 "cells": [
  {
   "cell_type": "code",
   "execution_count": 1,
   "metadata": {
    "collapsed": true
   },
   "outputs": [],
   "source": [
    "%load_ext autoreload\n",
    "%autoreload 2"
   ]
  },
  {
   "cell_type": "code",
   "execution_count": 2,
   "metadata": {
    "collapsed": true
   },
   "outputs": [],
   "source": [
    "import os \n",
    "import urllib\n",
    "import cPickle, pickle\n",
    "import numpy as np\n",
    "import shutil\n",
    "from operator import attrgetter"
   ]
  },
  {
   "cell_type": "code",
   "execution_count": 7,
   "metadata": {
    "collapsed": true
   },
   "outputs": [],
   "source": [
    "song_path = \"../../../../Documents/datasets/vibe/audio/\"\n",
    "song_list = [s[:-4] for s in os.listdir(song_path) if s.endswith('.mp3')]\n",
    "\n",
    "# sample_songs = [\"Creep\", \"American Idiot\", \"What's Going On\"]\n",
    "# clips_path = \"../../../Dropbox/Public/clips/\"\n",
    "clips_path = \"../../clips/\""
   ]
  },
  {
   "cell_type": "code",
   "execution_count": 8,
   "metadata": {},
   "outputs": [
    {
     "name": "stdout",
     "output_type": "stream",
     "text": [
      "['American Idiot', 'Creep', 'Dangerous (feat. Joywave)', 'Dani California', 'Hall of Fame (feat. will.i.am)', 'Hozier - Take Me to Church', 'I Will Possess Your Heart', 'Mumford Sons - Believe', 'Paramore - Ignorance', 'Radioactive 1', 'Riptide', 'Sail', \"Say It Ain't So\", 'Soul 45', 'Suite for Solo Cello No. 1 in G Major, BWV 1007 I. Prelude', 'Supermassive Black Hole', 'Team', 'The Neighborhood - Sweater Weather', \"What's Going On\"]\n"
     ]
    }
   ],
   "source": [
    "print song_list\n",
    "# song_list.remove('American Idiot')\n",
    "# song_list.remove('Creep')"
   ]
  },
  {
   "cell_type": "code",
   "execution_count": 5,
   "metadata": {
    "collapsed": true
   },
   "outputs": [],
   "source": [
    "# reference_clips = ['American Idiot/American Idiot_20_0.wav', 'American Idiot/American Idiot_20_2.wav', \n",
    "#                    'American Idiot/American Idiot_20_6.wav', 'American Idiot/American Idiot_20_8.wav',\n",
    "#                    'American Idiot/American Idiot_20_13.wav', 'American Idiot/American Idiot_20_15.wav']\n",
    "\n",
    "reference_clips = ['Creep/Creep_20_1.wav', 'Creep/Creep_20_5.wav', \n",
    "                   'Creep/Creep_20_7.wav', 'Creep/Creep_20_8.wav',\n",
    "                   'Creep/Creep_20_13.wav', 'Creep/Creep_20_15.wav']\n"
   ]
  },
  {
   "cell_type": "code",
   "execution_count": 6,
   "metadata": {
    "collapsed": true
   },
   "outputs": [],
   "source": [
    "selected_clips = [[clips for clips in os.listdir(clips_path+clip_folder) if clips.endswith('.wav')] \n",
    "                  for clip_folder in os.listdir(clips_path) if clip_folder in song_list]"
   ]
  },
  {
   "cell_type": "code",
   "execution_count": 7,
   "metadata": {
    "collapsed": true
   },
   "outputs": [],
   "source": [
    "class clip:\n",
    "    def __init__(self, name, duration, idx):\n",
    "        self.name = name\n",
    "        self.duration = int(duration)\n",
    "        self.idx = int(idx)\n",
    "    def __repr__(self):\n",
    "        return self.name+\"_\"+str(self.duration)+\"_\"+str(self.idx)\n",
    "    def path(self, path):\n",
    "        return path+self.name+\"/\"+self.__repr__()\n",
    "    def url(self, url_path=\"//dl.dropboxusercontent.com/u/4893373/clips/\"):\n",
    "        return \"https:\"+urllib.quote(url_path+self.name+\"/\"+self.__repr__())"
   ]
  },
  {
   "cell_type": "code",
   "execution_count": 8,
   "metadata": {
    "collapsed": true
   },
   "outputs": [],
   "source": [
    "parsed_songs = []\n",
    "for i, song in enumerate(selected_clips):\n",
    "    parsed_songs.append([clip(*c[:-4].split(\"_\")) for c in song])"
   ]
  },
  {
   "cell_type": "code",
   "execution_count": 9,
   "metadata": {
    "collapsed": true
   },
   "outputs": [],
   "source": [
    "non_overlap_dict = dict([(s, [[] for j in range(2)]) for s in song_list])"
   ]
  },
  {
   "cell_type": "code",
   "execution_count": 10,
   "metadata": {
    "collapsed": true
   },
   "outputs": [],
   "source": [
    "for parsed_clips in parsed_songs:\n",
    "    for c in parsed_clips:\n",
    "        idx = (c.idx)%(c.duration/10)\n",
    "        non_overlap_dict[c.name][idx].append(c)"
   ]
  },
  {
   "cell_type": "code",
   "execution_count": 11,
   "metadata": {
    "collapsed": true
   },
   "outputs": [],
   "source": [
    "# non_overlap_songs = dict([(i,{\"Creep\":[[] for j in range(i/5)], \n",
    "#                               \"American Idiot\":[[] for j in range(i/5)], \n",
    "#                               \"What's Going On\":[[] for j in range(i/5)]}) for i in range(20,25,5)])\n",
    "# for parsed_clips in parsed_songs:\n",
    "#     for c in parsed_clips:\n",
    "#         idx = (c.idx)%(c.duration/5)\n",
    "#         non_overlap_songs[c.duration][c.name][idx].append(c)"
   ]
  },
  {
   "cell_type": "code",
   "execution_count": null,
   "metadata": {
    "collapsed": true
   },
   "outputs": [],
   "source": [
    "test_batches = [[] for j in range(2)]\n",
    "\n",
    "for n, clip_list in non_overlap_dict.items():\n",
    "    for i, clips in enumerate(clip_list):    \n",
    "        test_batches[i].extend(clips)"
   ]
  },
  {
   "cell_type": "code",
   "execution_count": 17,
   "metadata": {},
   "outputs": [
    {
     "name": "stdout",
     "output_type": "stream",
     "text": [
      "0\n",
      "0\n"
     ]
    }
   ],
   "source": [
    "for test_batch in test_batches:\n",
    "    extra = 9-len(test_batch)%9\n",
    "#     for e in range(extra):\n",
    "    test_batch.extend(np.random.choice(test_batch, size=extra, replace=False))\n",
    "    print len(test_batch)%9"
   ]
  },
  {
   "cell_type": "code",
   "execution_count": 18,
   "metadata": {},
   "outputs": [
    {
     "name": "stdout",
     "output_type": "stream",
     "text": [
      "216\n"
     ]
    }
   ],
   "source": [
    "print len(test_batches[1])"
   ]
  },
  {
   "cell_type": "code",
   "execution_count": 19,
   "metadata": {
    "collapsed": true
   },
   "outputs": [],
   "source": [
    "reference_list = []\n",
    "permute_indices = []\n",
    "permute_batches = []\n",
    "exp_song_dict=dict([(j,{})for j in range(2)])\n",
    "for b_idx, test_batch in enumerate(test_batches):\n",
    "    permute_idx = np.random.permutation(len(test_batch))\n",
    "    permute_batch = [test_batch[i] for i in permute_idx]\n",
    "    \n",
    "    test_count = 1\n",
    "    converted_song = []\n",
    "    for i, song in enumerate(permute_batch):\n",
    "        seg_name = \"seg%02d_%02d_%02d.wav\" % (b_idx, test_count, i%9+1)\n",
    "        shutil.copy(song.path(clips_path)+'.wav', '../../amt_batch/'+seg_name)\n",
    "        exp_song_dict[b_idx][seg_name]=song\n",
    "        if i%9+1 == 1:\n",
    "            ref = np.random.choice(reference_clips)\n",
    "            shutil.copy(clips_path+ref, '../../amt_batch/seg%02d_%02d_10.wav' % (b_idx, test_count))\n",
    "            exp_song_dict[b_idx]['seg%02d_%02d_10.wav' % (b_idx, test_count)]=ref        \n",
    "        if i%9+1 == 9:\n",
    "            test_count+=1\n",
    "        \n",
    "    permute_indices.append(permute_idx)\n",
    "    permute_batches.append(permute_batch)\n",
    "\n",
    "f = open('amt_clip.dict', 'w')\n",
    "pickle.dump(exp_song_dict, f)\n",
    "f.close()"
   ]
  },
  {
   "cell_type": "code",
   "execution_count": 48,
   "metadata": {},
   "outputs": [
    {
     "name": "stdout",
     "output_type": "stream",
     "text": [
      "236\n"
     ]
    }
   ],
   "source": [
    "print len(exp_song_dict[1])"
   ]
  },
  {
   "cell_type": "code",
   "execution_count": 52,
   "metadata": {
    "collapsed": true
   },
   "outputs": [],
   "source": []
  },
  {
   "cell_type": "code",
   "execution_count": 13,
   "metadata": {
    "collapsed": true
   },
   "outputs": [],
   "source": [
    "# concatenated_dict = dict([(i,[]) for i in range(10,35,5)])\n",
    "# for dur, clips in non_overlap_songs.items():\n",
    "#     concatenated_dict[dur] = [[] for i in range(dur/5)]\n",
    "#     for n, c in clips.items():\n",
    "#         for i in range(len(c)):\n",
    "#             concatenated_dict[dur][i]+=c[i]"
   ]
  },
  {
   "cell_type": "code",
   "execution_count": 17,
   "metadata": {},
   "outputs": [
    {
     "name": "stdout",
     "output_type": "stream",
     "text": [
      "[What's Going On_25_1, What's Going On_25_11, What's Going On_25_16, What's Going On_25_21, What's Going On_25_26, What's Going On_25_31, What's Going On_25_36, What's Going On_25_41, What's Going On_25_46, What's Going On_25_51, What's Going On_25_56, What's Going On_25_6, What's Going On_25_61, What's Going On_25_66, American Idiot_25_1, American Idiot_25_11, American Idiot_25_16, American Idiot_25_21, American Idiot_25_26, American Idiot_25_31, American Idiot_25_36, American Idiot_25_41, American Idiot_25_46, American Idiot_25_6, Creep_25_1, Creep_25_11, Creep_25_16, Creep_25_21, Creep_25_26, Creep_25_31, Creep_25_36, Creep_25_41, Creep_25_46, Creep_25_51, Creep_25_56, Creep_25_6, Creep_25_61, Creep_25_66, Creep_25_71]\n"
     ]
    }
   ],
   "source": [
    "# print concatenated_dict[25][1]"
   ]
  },
  {
   "cell_type": "code",
   "execution_count": null,
   "metadata": {
    "collapsed": true
   },
   "outputs": [],
   "source": []
  }
 ],
 "metadata": {
  "kernelspec": {
   "display_name": "Python 2",
   "language": "python",
   "name": "python2"
  },
  "language_info": {
   "codemirror_mode": {
    "name": "ipython",
    "version": 2
   },
   "file_extension": ".py",
   "mimetype": "text/x-python",
   "name": "python",
   "nbconvert_exporter": "python",
   "pygments_lexer": "ipython2",
   "version": "2.7.13"
  }
 },
 "nbformat": 4,
 "nbformat_minor": 1
}
