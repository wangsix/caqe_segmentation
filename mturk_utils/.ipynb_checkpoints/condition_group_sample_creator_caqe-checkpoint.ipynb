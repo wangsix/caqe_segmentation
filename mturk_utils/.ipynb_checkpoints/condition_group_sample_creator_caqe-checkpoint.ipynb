{
 "cells": [
  {
   "cell_type": "code",
   "execution_count": 1,
   "metadata": {
    "collapsed": true
   },
   "outputs": [],
   "source": [
    "%load_ext autoreload\n",
    "%autoreload 2"
   ]
  },
  {
   "cell_type": "code",
   "execution_count": 4,
   "metadata": {
    "collapsed": true
   },
   "outputs": [],
   "source": [
    "import os \n",
    "import urllib\n",
    "import cPickle, pickle\n",
    "import numpy as np\n",
    "import shutil\n",
    "import os\n",
    "from operator import attrgetter"
   ]
  },
  {
   "cell_type": "code",
   "execution_count": 5,
   "metadata": {
    "collapsed": true
   },
   "outputs": [],
   "source": [
    "DATASET = 'salami' # or 'beatles'"
   ]
  },
  {
   "cell_type": "code",
   "execution_count": 7,
   "metadata": {
    "collapsed": false
   },
   "outputs": [],
   "source": [
    "if DATASET == 'salami':\n",
    "    song_path = \"../salami_subset/\"\n",
    "    song_list = [s[:-4] for s in os.listdir(song_path) if s.endswith('.mp3')]\n",
    "    song_list.remove('1605')\n",
    "    \n",
    "    reference_clips = [\n",
    "                    '1605/1605_20_0.wav', \n",
    "                    '1605/1605_20_2.wav', \n",
    "                    '1605/1605_20_4.wav',\n",
    "                    '1605/1605_20_6.wav', \n",
    "                    '1605/1605_20_8.wav',\n",
    "                  ]\n",
    "\n",
    "else:\n",
    "    song_path = \"../beatles_subset/\"\n",
    "    song_list = [s[:-4] for s in os.listdir(song_path) if s.endswith('.wav')]\n",
    "    song_list.remove('Come Together')\n",
    "    \n",
    "    reference_clips = [\n",
    "                    'Come Together/Come Together_20_0.wav', \n",
    "                    'Come Together/Come Together_20_6.wav', \n",
    "                    'Come Together/Come Together_20_8.wav',\n",
    "                    'Come Together/Come Together_20_10.wav', \n",
    "                    'Come Together/Come Together_20_14.wav',\n",
    "                    'Come Together/Come Together_20_16.wav',\n",
    "                    'Come Together/Come Together_20_18.wav',\n",
    "                  ]\n",
    "    \n",
    "\n",
    "clips_path = \"../clips/\"\n",
    "print song_list"
   ]
  },
  {
   "cell_type": "code",
   "execution_count": 13,
   "metadata": {
    "collapsed": false
   },
   "outputs": [
    {
     "name": "stdout",
     "output_type": "stream",
     "text": [
      "['1054', '1605', '1621', '1627', '979']\n"
     ]
    }
   ],
   "source": [
    "song_list.remove('1605')"
   ]
  },
  {
   "cell_type": "code",
   "execution_count": 14,
   "metadata": {
    "collapsed": true
   },
   "outputs": [],
   "source": [
    "\n"
   ]
  },
  {
   "cell_type": "code",
   "execution_count": 15,
   "metadata": {
    "collapsed": false
   },
   "outputs": [],
   "source": [
    "selected_clips = [[clips for clips in os.listdir(clips_path+clip_folder) if clips.endswith('.wav') \n",
    "                   and clips.split('_')[-2]=='20'] \n",
    "                  for clip_folder in os.listdir(clips_path) if clip_folder in song_list]"
   ]
  },
  {
   "cell_type": "code",
   "execution_count": 16,
   "metadata": {
    "collapsed": true
   },
   "outputs": [],
   "source": [
    "class clip:\n",
    "    def __init__(self, name, duration, idx):\n",
    "        self.name = name\n",
    "        self.duration = int(duration)\n",
    "        self.idx = int(idx)\n",
    "    def __repr__(self):\n",
    "        return self.name+\"_\"+str(self.duration)+\"_\"+str(self.idx)\n",
    "    def path(self, path):\n",
    "        return path+self.name+\"/\"+self.__repr__()\n",
    "    def url(self, url_path=\"//dl.dropboxusercontent.com/u/4893373/amt_batch/\"):\n",
    "        return \"https:\"+urllib.quote(url_path+self.name+\"/\"+self.__repr__())"
   ]
  },
  {
   "cell_type": "code",
   "execution_count": 17,
   "metadata": {
    "collapsed": false
   },
   "outputs": [],
   "source": [
    "parsed_songs = []\n",
    "for i, song in enumerate(selected_clips):\n",
    "    parsed_songs.append([clip(*c[:-4].split(\"_\")) for c in song])"
   ]
  },
  {
   "cell_type": "code",
   "execution_count": 18,
   "metadata": {
    "collapsed": true
   },
   "outputs": [],
   "source": [
    "batch_num = 2\n",
    "non_overlap_dict = dict([(s, [[] for j in range(batch_num)]) for s in song_list])"
   ]
  },
  {
   "cell_type": "code",
   "execution_count": 19,
   "metadata": {
    "collapsed": true
   },
   "outputs": [],
   "source": [
    "for parsed_clips in parsed_songs:\n",
    "    for c in parsed_clips:\n",
    "        idx = (c.idx)%batch_num\n",
    "        non_overlap_dict[c.name][idx].append(c)"
   ]
  },
  {
   "cell_type": "code",
   "execution_count": 21,
   "metadata": {
    "collapsed": true
   },
   "outputs": [],
   "source": [
    "test_batches = [[] for j in range(batch_num)]\n",
    "\n",
    "for n, clip_list in non_overlap_dict.items():\n",
    "    for i, clips in enumerate(clip_list):    \n",
    "        test_batches[i].extend(clips)"
   ]
  },
  {
   "cell_type": "code",
   "execution_count": 22,
   "metadata": {
    "collapsed": false
   },
   "outputs": [
    {
     "name": "stdout",
     "output_type": "stream",
     "text": [
      "0\n",
      "0\n"
     ]
    }
   ],
   "source": [
    "for test_batch in test_batches:\n",
    "    extra = 9-len(test_batch)%9\n",
    "    test_batch.extend(np.random.choice(test_batch, size=extra, replace=False))\n",
    "    print len(test_batch)%9"
   ]
  },
  {
   "cell_type": "code",
   "execution_count": 23,
   "metadata": {
    "collapsed": false
   },
   "outputs": [
    {
     "name": "stdout",
     "output_type": "stream",
     "text": [
      "36\n"
     ]
    }
   ],
   "source": [
    "print len(test_batches[1])"
   ]
  },
  {
   "cell_type": "code",
   "execution_count": 25,
   "metadata": {
    "collapsed": false
   },
   "outputs": [],
   "source": [
    "reference_list = []\n",
    "permute_indices = []\n",
    "permute_batches = []\n",
    "exp_song_dict=dict([(j,{})for j in range(batch_num)])\n",
    "test_count = 1\n",
    "for b_idx, test_batch in enumerate(test_batches):\n",
    "    permute_idx = np.random.permutation(len(test_batch))\n",
    "    permute_batch = [test_batch[i] for i in permute_idx]\n",
    "    \n",
    "    converted_song = []\n",
    "    for i, song in enumerate(permute_batch):\n",
    "#         idx = b_idx*10+test_count\n",
    "        seg_name = \"seg%02d_%02d.wav\" % (test_count, i%9+1)\n",
    "        shutil.copy(song.path(clips_path)+'.wav', '../amt_batch/'+seg_name)\n",
    "        exp_song_dict[b_idx][seg_name]=song\n",
    "        if i%9+1 == 1:\n",
    "            ref = np.random.choice(reference_clips)\n",
    "            shutil.copy(clips_path+ref, '../amt_batch/seg%02d_10.wav' % (test_count))\n",
    "            exp_song_dict[b_idx]['seg%02d_10.wav' % (test_count)]=ref        \n",
    "        if i%9+1 == 9:\n",
    "            test_count+=1\n",
    "        \n",
    "    permute_indices.append(permute_idx)\n",
    "    permute_batches.append(permute_batch)\n",
    "\n",
    "f = open('amt_clip_04192017.dict', 'w')\n",
    "pickle.dump(exp_song_dict, f)\n",
    "f.close()"
   ]
  },
  {
   "cell_type": "code",
   "execution_count": 26,
   "metadata": {
    "collapsed": false
   },
   "outputs": [
    {
     "name": "stdout",
     "output_type": "stream",
     "text": [
      "40\n"
     ]
    }
   ],
   "source": [
    "print len(exp_song_dict[1])"
   ]
  }
 ],
 "metadata": {
  "kernelspec": {
   "display_name": "Python 2",
   "language": "python",
   "name": "python2"
  },
  "language_info": {
   "codemirror_mode": {
    "name": "ipython",
    "version": 2
   },
   "file_extension": ".py",
   "mimetype": "text/x-python",
   "name": "python",
   "nbconvert_exporter": "python",
   "pygments_lexer": "ipython2",
   "version": "2.7.13"
  }
 },
 "nbformat": 4,
 "nbformat_minor": 1
}
