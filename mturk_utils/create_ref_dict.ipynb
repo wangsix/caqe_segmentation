{
 "cells": [
  {
   "cell_type": "code",
   "execution_count": 1,
   "metadata": {
    "collapsed": true
   },
   "outputs": [],
   "source": [
    "%load_ext autoreload\n",
    "%autoreload 2"
   ]
  },
  {
   "cell_type": "code",
   "execution_count": 2,
   "metadata": {
    "collapsed": true
   },
   "outputs": [],
   "source": [
    "import os \n",
    "import urllib\n",
    "import cPickle, pickle\n",
    "import numpy as np\n",
    "import shutil\n"
   ]
  },
  {
   "cell_type": "code",
   "execution_count": 3,
   "metadata": {
    "collapsed": true
   },
   "outputs": [],
   "source": [
    "class clip:\n",
    "    def __init__(self, name, duration, idx):\n",
    "        self.name = name\n",
    "        self.duration = int(duration)\n",
    "        self.idx = int(idx)\n",
    "    def __repr__(self):\n",
    "        return self.name+\"_\"+str(self.duration)+\"_\"+str(self.idx)\n",
    "    def path(self, path):\n",
    "        return path+self.name+\"/\"+self.__repr__()\n",
    "    def url(self, url_path=\"//dl.dropboxusercontent.com/u/4893373/amt_batch/\"):\n",
    "        return \"https:\"+urllib.quote(url_path+self.name+\"/\"+self.__repr__())"
   ]
  },
  {
   "cell_type": "code",
   "execution_count": 5,
   "metadata": {
    "collapsed": false
   },
   "outputs": [],
   "source": [
    "dict_path = 'amt_clip_salami.dict'\n",
    "f = open(dict_path, 'r')\n",
    "ref_dict = pickle.load(f)\n",
    "f.close()"
   ]
  },
  {
   "cell_type": "code",
   "execution_count": 6,
   "metadata": {
    "collapsed": false
   },
   "outputs": [
    {
     "name": "stdout",
     "output_type": "stream",
     "text": [
      "0\n",
      "seg02_10.wav 1605/1605_20_6.wav\n",
      "S02_10\n",
      "seg01_10.wav 1605/1605_20_2.wav\n",
      "S01_10\n",
      "seg04_10.wav 1605/1605_20_0.wav\n",
      "S04_10\n",
      "seg03_10.wav 1605/1605_20_0.wav\n",
      "S03_10\n",
      "1\n",
      "seg07_10.wav 1605/1605_20_0.wav\n",
      "S07_10\n",
      "seg05_10.wav 1605/1605_20_2.wav\n",
      "S05_10\n",
      "seg08_10.wav 1605/1605_20_0.wav\n",
      "S08_10\n",
      "seg06_10.wav 1605/1605_20_6.wav\n",
      "S06_10\n"
     ]
    }
   ],
   "source": [
    "ref_truth_dict = {}\n",
    "for batch_id, song_dict in ref_dict.items():\n",
    "    print batch_id \n",
    "    for clip_name, song_info in song_dict.items():\n",
    "        if clip_name.split('_')[-1][:2] == '10':\n",
    "            print clip_name, song_info\n",
    "            print 'S'+clip_name[3:-4]\n",
    "            ref_truth_dict['S'+clip_name[3:-4]] = song_info"
   ]
  },
  {
   "cell_type": "code",
   "execution_count": 7,
   "metadata": {
    "collapsed": false
   },
   "outputs": [
    {
     "name": "stdout",
     "output_type": "stream",
     "text": [
      "{'S01_10': '1605/1605_20_2.wav', 'S02_10': '1605/1605_20_6.wav', 'S04_10': '1605/1605_20_0.wav', 'S08_10': '1605/1605_20_0.wav', 'S07_10': '1605/1605_20_0.wav', 'S03_10': '1605/1605_20_0.wav', 'S05_10': '1605/1605_20_2.wav', 'S06_10': '1605/1605_20_6.wav'}\n"
     ]
    }
   ],
   "source": [
    "print ref_truth_dict"
   ]
  },
  {
   "cell_type": "code",
   "execution_count": 7,
   "metadata": {
    "collapsed": true
   },
   "outputs": [],
   "source": [
    "# reference_clips = [\n",
    "#                     'Come Together/Come Together_20_0.wav', \n",
    "#                     'Come Together/Come Together_20_6.wav', \n",
    "#                     'Come Together/Come Together_20_8.wav',\n",
    "#                     'Come Together/Come Together_20_10.wav', \n",
    "#                     'Come Together/Come Together_20_14.wav',\n",
    "#                     'Come Together/Come Together_20_16.wav',\n",
    "#                     'Come Together/Come Together_20_18.wav',\n",
    "#                   ]\n",
    "\n",
    "reference_clips = [\n",
    "                    '1605/1605_20_0.wav', \n",
    "                    '1605/1605_20_2.wav', \n",
    "                    '1605/1605_20_4.wav',\n",
    "                    '1605/1605_20_6.wav', \n",
    "                    '1605/1605_20_8.wav',\n",
    "                  ]\n"
   ]
  },
  {
   "cell_type": "code",
   "execution_count": 10,
   "metadata": {
    "collapsed": true
   },
   "outputs": [],
   "source": [
    "ref_time = {\n",
    "            '1605_20_0.wav':[12.194],\n",
    "            '1605_20_2.wav':[4.098, 15.965],\n",
    "            '1605_20_4.wav':[7.743, 19.545],\n",
    "            '1605_20_6.wav':[11.367],\n",
    "            '1605_20_8.wav':[12.000],\n",
    "           }\n",
    "\n",
    "# ref_time = {\n",
    "#             'Come Together_20_6.wav':[4.963, 10.61, 15.097, 16.336],\n",
    "#             'Come Together_20_0.wav':[1.05, 12.574],\n",
    "#             'Come Together_20_8.wav':[7.942],\n",
    "#             'Come Together_20_10.wav':[5.438, 11.255, 15.552, 17.068],\n",
    "#             'Come Together_20_14.wav':[5.761, 11.526],\n",
    "#             'Come Together_20_16.wav':[9.137, 14.948],\n",
    "#             'Come Together_20_18.wav':[0.958, 13.395, 18.748]\n",
    "#            }\n"
   ]
  },
  {
   "cell_type": "code",
   "execution_count": 11,
   "metadata": {
    "collapsed": false
   },
   "outputs": [
    {
     "data": {
      "text/plain": [
       "[('S01_10', '1605/1605_20_2.wav'),\n",
       " ('S02_10', '1605/1605_20_6.wav'),\n",
       " ('S04_10', '1605/1605_20_0.wav'),\n",
       " ('S08_10', '1605/1605_20_0.wav'),\n",
       " ('S07_10', '1605/1605_20_0.wav'),\n",
       " ('S03_10', '1605/1605_20_0.wav'),\n",
       " ('S05_10', '1605/1605_20_2.wav'),\n",
       " ('S06_10', '1605/1605_20_6.wav')]"
      ]
     },
     "execution_count": 11,
     "metadata": {},
     "output_type": "execute_result"
    }
   ],
   "source": [
    "ref_truth_dict.items()"
   ]
  },
  {
   "cell_type": "code",
   "execution_count": 12,
   "metadata": {
    "collapsed": false
   },
   "outputs": [],
   "source": [
    "ref_time_dict = {key: np.array(ref_time[value.split('/')[-1]])/20.0 for (key, value) in ref_truth_dict.items()}"
   ]
  },
  {
   "cell_type": "code",
   "execution_count": 13,
   "metadata": {
    "collapsed": false
   },
   "outputs": [
    {
     "name": "stdout",
     "output_type": "stream",
     "text": [
      "{'S01_10': array([ 0.2049 ,  0.79825]), 'S02_10': array([ 0.56835]), 'S04_10': array([ 0.6097]), 'S08_10': array([ 0.6097]), 'S07_10': array([ 0.6097]), 'S03_10': array([ 0.6097]), 'S05_10': array([ 0.2049 ,  0.79825]), 'S06_10': array([ 0.56835])}\n"
     ]
    }
   ],
   "source": [
    "print ref_time_dict"
   ]
  },
  {
   "cell_type": "code",
   "execution_count": 23,
   "metadata": {
    "collapsed": true
   },
   "outputs": [],
   "source": [
    "ref_time_dict_file = open('../../../CAQE/seg_ref_dict.dict', 'w')\n",
    "pickle.dump(ref_time_dict, ref_time_dict_file)\n",
    "ref_time_dict_file.close()"
   ]
  },
  {
   "cell_type": "code",
   "execution_count": null,
   "metadata": {
    "collapsed": true
   },
   "outputs": [],
   "source": []
  }
 ],
 "metadata": {
  "kernelspec": {
   "display_name": "Python 2",
   "language": "python",
   "name": "python2"
  },
  "language_info": {
   "codemirror_mode": {
    "name": "ipython",
    "version": 2
   },
   "file_extension": ".py",
   "mimetype": "text/x-python",
   "name": "python",
   "nbconvert_exporter": "python",
   "pygments_lexer": "ipython2",
   "version": "2.7.13"
  }
 },
 "nbformat": 4,
 "nbformat_minor": 0
}
