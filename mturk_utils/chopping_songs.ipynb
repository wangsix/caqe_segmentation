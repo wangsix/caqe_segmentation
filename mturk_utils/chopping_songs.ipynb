{
 "cells": [
  {
   "cell_type": "markdown",
   "metadata": {},
   "source": [
    "# Helper for chopping songs into overlapping clips #"
   ]
  },
  {
   "cell_type": "code",
   "execution_count": 1,
   "metadata": {
    "collapsed": false
   },
   "outputs": [],
   "source": [
    "%load_ext autoreload\n",
    "%autoreload 2"
   ]
  },
  {
   "cell_type": "code",
   "execution_count": 2,
   "metadata": {
    "collapsed": true
   },
   "outputs": [],
   "source": [
    "import numpy as np\n",
    "import os \n",
    "import librosa\n",
    "from joblib import Parallel, delayed"
   ]
  },
  {
   "cell_type": "markdown",
   "metadata": {},
   "source": [
    "### Specifying audio folders ### "
   ]
  },
  {
   "cell_type": "code",
   "execution_count": 4,
   "metadata": {
    "collapsed": false
   },
   "outputs": [
    {
     "name": "stdout",
     "output_type": "stream",
     "text": [
      "['../salami_subsets/1054.mp3', '../salami_subsets/1605.mp3', '../salami_subsets/1621.mp3', '../salami_subsets/1627.mp3', '../salami_subsets/979.mp3']\n"
     ]
    }
   ],
   "source": [
    "# salami_folder = \"../songs/salami/\"\n",
    "# salami_songs = [salami_folder+s for s in os.listdir(salami_folder) if s.endswith('.mp3')]\n",
    "\n",
    "# vibe_folder = \"../songs/vibe/\"\n",
    "# vibe_folder = \"/Users/cheng-iwang/Documents/datasets/vibe/audio/\"\n",
    "# vibe_songs = [vibe_folder+s for s in os.listdir(vibe_folder) if s.endswith('.mp3')]\n",
    "\n",
    "# amt_folder = \"/Users/cheng-iwang/Desktop/amt_songs/\"\n",
    "amt_folder = \"../salami_subsets/\"\n",
    "amt_songs = [amt_folder+s for s in os.listdir(amt_folder) if s.endswith('.mp3')]\n",
    "\n",
    "songs = amt_songs\n",
    "# songs = salami_songs\n",
    "print songs"
   ]
  },
  {
   "cell_type": "markdown",
   "metadata": {},
   "source": [
    "### Specifying export folder, lengths of clips and hop length (in secons)"
   ]
  },
  {
   "cell_type": "code",
   "execution_count": 5,
   "metadata": {
    "collapsed": true
   },
   "outputs": [],
   "source": [
    "export_folder = \"../clips/\"\n",
    "clip_lengths = range(20,25,5)\n",
    "hop_length = 10"
   ]
  },
  {
   "cell_type": "code",
   "execution_count": 6,
   "metadata": {
    "collapsed": true
   },
   "outputs": [],
   "source": [
    "def chop(y, sr, t, s):\n",
    "    hop = hop_length*sr\n",
    "    window = t*sr\n",
    "    clip_start = 0\n",
    "    clip_end = window\n",
    "    ind = 0\n",
    "    while clip_end <= y.shape[0]:\n",
    "        librosa.output.write_wav(song_export_path+s+'_'+str(int(t))+'_'+str(ind)+'.wav', \n",
    "                                 y[clip_start:clip_end], sr)\n",
    "        clip_start+=hop\n",
    "        clip_end+=hop\n",
    "        ind+=1\n",
    "    else:\n",
    "        librosa.output.write_wav(song_export_path+s+'_'+str(int(t))+'_'+str(ind)+'.wav', \n",
    "                                 y[clip_start:], sr)    "
   ]
  },
  {
   "cell_type": "code",
   "execution_count": 7,
   "metadata": {
    "collapsed": false
   },
   "outputs": [
    {
     "name": "stdout",
     "output_type": "stream",
     "text": [
      "../salami_subsets/1054.mp3 - loaded.\n",
      "../salami_subsets/1605.mp3 - loaded.\n",
      "../salami_subsets/1621.mp3 - loaded.\n",
      "../salami_subsets/1627.mp3 - loaded.\n",
      "../salami_subsets/979.mp3 - loaded.\n"
     ]
    }
   ],
   "source": [
    "for s in songs:\n",
    "    y, sr = librosa.load(s)\n",
    "    print s, '- loaded.'\n",
    "    \n",
    "    if not os.path.isdir(export_folder+s[:-4].split('/')[-1]+'/'):\n",
    "        os.mkdir(export_folder+s[:-4].split('/')[-1]+'/')\n",
    "    song_export_path = export_folder+s[:-4].split('/')[-1]+'/'\n",
    "    \n",
    "    Parallel(n_jobs=4)(delayed(chop)(y=y, sr=sr, t=t, s=s[:-4].split('/')[-1]) \n",
    "                       for t in clip_lengths)"
   ]
  },
  {
   "cell_type": "code",
   "execution_count": null,
   "metadata": {
    "collapsed": true
   },
   "outputs": [],
   "source": []
  }
 ],
 "metadata": {
  "kernelspec": {
   "display_name": "Python 2",
   "language": "python",
   "name": "python2"
  },
  "language_info": {
   "codemirror_mode": {
    "name": "ipython",
    "version": 2
   },
   "file_extension": ".py",
   "mimetype": "text/x-python",
   "name": "python",
   "nbconvert_exporter": "python",
   "pygments_lexer": "ipython2",
   "version": "2.7.13"
  }
 },
 "nbformat": 4,
 "nbformat_minor": 1
}
